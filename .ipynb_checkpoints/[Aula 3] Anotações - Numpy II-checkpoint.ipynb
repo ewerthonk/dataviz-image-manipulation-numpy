{
 "cells": [
  {
   "cell_type": "markdown",
   "id": "7758f9ce",
   "metadata": {},
   "source": [
    "\n",
    "# Números Aleatórios no Numpy"
   ]
  },
  {
   "cell_type": "code",
   "execution_count": 3,
   "id": "593a6214",
   "metadata": {},
   "outputs": [],
   "source": [
    "import numpy as np"
   ]
  },
  {
   "cell_type": "markdown",
   "id": "284e0317",
   "metadata": {},
   "source": [
    "## Rand\n",
    "\n",
    "Distribuição Uniforme - Entre 0 e 1.\n"
   ]
  },
  {
   "cell_type": "code",
   "execution_count": 4,
   "id": "2cd048a7",
   "metadata": {},
   "outputs": [
    {
     "data": {
      "text/plain": [
       "array([[[0.79087836, 0.26533562, 0.91855317],\n",
       "        [0.37546691, 0.36278375, 0.1953615 ],\n",
       "        [0.04885779, 0.65485055, 0.92810375]],\n",
       "\n",
       "       [[0.65210429, 0.25020924, 0.09518885],\n",
       "        [0.11091284, 0.21153194, 0.76443858],\n",
       "        [0.43175371, 0.60954301, 0.60698641]]])"
      ]
     },
     "execution_count": 4,
     "metadata": {},
     "output_type": "execute_result"
    }
   ],
   "source": [
    "np.random.rand(2,3,3)"
   ]
  },
  {
   "cell_type": "markdown",
   "id": "f952bd1f",
   "metadata": {},
   "source": [
    "## Randn\n",
    "\n",
    "Distribuição Normal - Entre 0 e 1."
   ]
  },
  {
   "cell_type": "code",
   "execution_count": 6,
   "id": "2b94c6e8",
   "metadata": {},
   "outputs": [
    {
     "data": {
      "text/plain": [
       "array([ 0.93238839,  2.3458743 , -1.86350763,  0.30352584,  1.2441655 ,\n",
       "       -1.3650538 ,  0.55859987,  0.02793706, -0.30848841,  0.64921121])"
      ]
     },
     "execution_count": 6,
     "metadata": {},
     "output_type": "execute_result"
    }
   ],
   "source": [
    "np.random.randn(10)"
   ]
  },
  {
   "cell_type": "markdown",
   "id": "e28b5633",
   "metadata": {},
   "source": [
    "## Randint\n",
    "\n",
    "Distribuição Uniforme - Valores Inteiros"
   ]
  },
  {
   "cell_type": "code",
   "execution_count": 7,
   "id": "fd5a7b95",
   "metadata": {},
   "outputs": [
    {
     "data": {
      "text/plain": [
       "array([[ 5,  5,  4],\n",
       "       [ 6, 10,  0],\n",
       "       [ 5,  7,  8]])"
      ]
     },
     "execution_count": 7,
     "metadata": {},
     "output_type": "execute_result"
    }
   ],
   "source": [
    "np.random.randint(low=0, high=11, size=(3,3))"
   ]
  },
  {
   "cell_type": "markdown",
   "id": "9685005e",
   "metadata": {},
   "source": [
    "# Deep Copy no Numpy\n"
   ]
  },
  {
   "cell_type": "code",
   "execution_count": 11,
   "id": "5d75b22e",
   "metadata": {},
   "outputs": [],
   "source": [
    "a = np.array([1, 2, 3, 4, 5])\n",
    "b = a"
   ]
  },
  {
   "cell_type": "code",
   "execution_count": 14,
   "id": "39cb93a9",
   "metadata": {},
   "outputs": [],
   "source": [
    "b = a.copy()\n",
    "b[0] = 50"
   ]
  },
  {
   "cell_type": "markdown",
   "id": "3971616e",
   "metadata": {},
   "source": [
    "# Indexing e Slicing em Matrizes"
   ]
  },
  {
   "cell_type": "code",
   "execution_count": 33,
   "id": "270607d7",
   "metadata": {},
   "outputs": [
    {
     "data": {
      "text/plain": [
       "array([[1, 2, 3],\n",
       "       [4, 5, 6]])"
      ]
     },
     "execution_count": 33,
     "metadata": {},
     "output_type": "execute_result"
    }
   ],
   "source": [
    "matriz = np.array([[1, 2, 3],\n",
    "                   [4, 5, 6]])\n",
    "matriz"
   ]
  },
  {
   "cell_type": "code",
   "execution_count": 28,
   "id": "496d402a",
   "metadata": {},
   "outputs": [
    {
     "data": {
      "text/plain": [
       "array([2, 5])"
      ]
     },
     "execution_count": 28,
     "metadata": {},
     "output_type": "execute_result"
    }
   ],
   "source": [
    "matriz[:, 1]"
   ]
  },
  {
   "cell_type": "code",
   "execution_count": 29,
   "id": "b1a3a30b",
   "metadata": {},
   "outputs": [
    {
     "data": {
      "text/plain": [
       "array([4, 5, 6])"
      ]
     },
     "execution_count": 29,
     "metadata": {},
     "output_type": "execute_result"
    }
   ],
   "source": [
    "matriz[1,:]"
   ]
  },
  {
   "cell_type": "code",
   "execution_count": 35,
   "id": "d3fffed0",
   "metadata": {},
   "outputs": [
    {
     "data": {
      "text/plain": [
       "array([[1, 3],\n",
       "       [4, 6]])"
      ]
     },
     "execution_count": 35,
     "metadata": {},
     "output_type": "execute_result"
    }
   ],
   "source": [
    "matriz[:, [0,-1]]"
   ]
  },
  {
   "cell_type": "markdown",
   "id": "6fa3be61",
   "metadata": {},
   "source": [
    "# Operações básicas nos eixos das Matrizes"
   ]
  },
  {
   "cell_type": "code",
   "execution_count": 38,
   "id": "baef01bb",
   "metadata": {},
   "outputs": [
    {
     "data": {
      "text/plain": [
       "array([3, 6])"
      ]
     },
     "execution_count": 38,
     "metadata": {},
     "output_type": "execute_result"
    }
   ],
   "source": [
    "matriz.max(axis=1)"
   ]
  },
  {
   "cell_type": "markdown",
   "id": "d5b53aa5",
   "metadata": {},
   "source": [
    "## Reshape"
   ]
  },
  {
   "cell_type": "code",
   "execution_count": 55,
   "id": "86c3e869",
   "metadata": {
    "scrolled": true
   },
   "outputs": [
    {
     "ename": "ValueError",
     "evalue": "all the input arrays must have same number of dimensions, but the array at index 0 has 2 dimension(s) and the array at index 1 has 1 dimension(s)",
     "output_type": "error",
     "traceback": [
      "\u001b[0;31m---------------------------------------------------------------------------\u001b[0m",
      "\u001b[0;31mValueError\u001b[0m                                Traceback (most recent call last)",
      "\u001b[0;32m<ipython-input-55-5bdff23088ed>\u001b[0m in \u001b[0;36m<module>\u001b[0;34m\u001b[0m\n\u001b[1;32m      3\u001b[0m \u001b[0mmatriz2\u001b[0m \u001b[0;34m=\u001b[0m \u001b[0mnp\u001b[0m\u001b[0;34m.\u001b[0m\u001b[0marray\u001b[0m\u001b[0;34m(\u001b[0m\u001b[0;34m[\u001b[0m\u001b[0;36m7\u001b[0m\u001b[0;34m,\u001b[0m\u001b[0;36m8\u001b[0m\u001b[0;34m,\u001b[0m\u001b[0;36m9\u001b[0m\u001b[0;34m]\u001b[0m\u001b[0;34m)\u001b[0m\u001b[0;34m\u001b[0m\u001b[0;34m\u001b[0m\u001b[0m\n\u001b[1;32m      4\u001b[0m \u001b[0;34m\u001b[0m\u001b[0m\n\u001b[0;32m----> 5\u001b[0;31m \u001b[0mmatriz_final\u001b[0m \u001b[0;34m=\u001b[0m \u001b[0mnp\u001b[0m\u001b[0;34m.\u001b[0m\u001b[0mconcatenate\u001b[0m\u001b[0;34m(\u001b[0m\u001b[0;34m(\u001b[0m\u001b[0mmatriz\u001b[0m\u001b[0;34m,\u001b[0m \u001b[0mmatriz2\u001b[0m\u001b[0;34m)\u001b[0m\u001b[0;34m,\u001b[0m \u001b[0maxis\u001b[0m\u001b[0;34m=\u001b[0m\u001b[0;36m0\u001b[0m\u001b[0;34m)\u001b[0m\u001b[0;34m\u001b[0m\u001b[0;34m\u001b[0m\u001b[0m\n\u001b[0m",
      "\u001b[0;32m<__array_function__ internals>\u001b[0m in \u001b[0;36mconcatenate\u001b[0;34m(*args, **kwargs)\u001b[0m\n",
      "\u001b[0;31mValueError\u001b[0m: all the input arrays must have same number of dimensions, but the array at index 0 has 2 dimension(s) and the array at index 1 has 1 dimension(s)"
     ]
    }
   ],
   "source": [
    "matriz = np.array([[1, 2, 3], [4, 5, 6]])\n",
    "\n",
    "matriz2 = np.array([7,8,9])\n",
    "\n",
    "matriz_final = np.concatenate((matriz, matriz2), axis=0)"
   ]
  },
  {
   "cell_type": "code",
   "execution_count": 52,
   "id": "eaf094b6",
   "metadata": {},
   "outputs": [],
   "source": [
    "matriz_final = np.vstack((matriz, matriz2))"
   ]
  },
  {
   "cell_type": "code",
   "execution_count": 53,
   "id": "494212ea",
   "metadata": {},
   "outputs": [
    {
     "data": {
      "text/plain": [
       "array([[1, 2, 3],\n",
       "       [4, 5, 6],\n",
       "       [7, 8, 9]])"
      ]
     },
     "execution_count": 53,
     "metadata": {},
     "output_type": "execute_result"
    }
   ],
   "source": [
    "matriz_final"
   ]
  },
  {
   "cell_type": "code",
   "execution_count": 65,
   "id": "d3edd470",
   "metadata": {},
   "outputs": [],
   "source": [
    "matriz = np.array([[1, 2], [4, 5]])\n",
    "matriz2 = np.array([[4, 5], [1, 2]])"
   ]
  },
  {
   "cell_type": "code",
   "execution_count": 66,
   "id": "e8971a5b",
   "metadata": {},
   "outputs": [],
   "source": [
    "matriz_final = np.matmul(matriz, matriz2)\n",
    "matriz_final"
   ]
  },
  {
   "cell_type": "code",
   "execution_count": 69,
   "id": "1e690544",
   "metadata": {},
   "outputs": [
    {
     "data": {
      "text/plain": [
       "array([[1, 4],\n",
       "       [2, 5]])"
      ]
     },
     "execution_count": 69,
     "metadata": {},
     "output_type": "execute_result"
    }
   ],
   "source": [
    "matriz_final = matriz.transpose(1,0)\n",
    "matriz_final"
   ]
  },
  {
   "cell_type": "markdown",
   "id": "71c948b4",
   "metadata": {},
   "source": [
    "A partir daqui ficou difícil anotar qualquer coisa. Tive que acompanhar a aula."
   ]
  },
  {
   "cell_type": "code",
   "execution_count": 73,
   "id": "016551d6",
   "metadata": {},
   "outputs": [
    {
     "data": {
      "text/plain": [
       "array([[[2]],\n",
       "\n",
       "       [[4]],\n",
       "\n",
       "       [[1]]])"
      ]
     },
     "execution_count": 73,
     "metadata": {},
     "output_type": "execute_result"
    }
   ],
   "source": [
    "np.random.randint(0,10, size=(3,1,1))"
   ]
  },
  {
   "cell_type": "code",
   "execution_count": null,
   "id": "a54b8ba0",
   "metadata": {},
   "outputs": [],
   "source": []
  }
 ],
 "metadata": {
  "kernelspec": {
   "display_name": "Python 3",
   "language": "python",
   "name": "python3"
  },
  "language_info": {
   "codemirror_mode": {
    "name": "ipython",
    "version": 3
   },
   "file_extension": ".py",
   "mimetype": "text/x-python",
   "name": "python",
   "nbconvert_exporter": "python",
   "pygments_lexer": "ipython3",
   "version": "3.8.8"
  }
 },
 "nbformat": 4,
 "nbformat_minor": 5
}
